{
 "cells": [
  {
   "cell_type": "code",
   "execution_count": 1,
   "id": "b1e17990",
   "metadata": {},
   "outputs": [],
   "source": [
    "#This is an example for the researcher defined code\n",
    "import ReinLifeResearcher"
   ]
  },
  {
   "cell_type": "code",
   "execution_count": 2,
   "id": "ff5d90f7",
   "metadata": {},
   "outputs": [],
   "source": [
    "def researcher_RL_code(Userid):\n",
    "    \"\"\"\n",
    "    researcher defined ML code\n",
    "    This should be considered as a template\n",
    "    This code takes in user information(answers) of one user, and output a action (for now, a message)\n",
    "    \"\"\"\n",
    "    \n",
    "    #get_answers should be considered as an API which allow researchers to customize the information they want\n",
    "    #In this example, we are getting all answers for that user for simplicity\n",
    "    answers=ReinLifeResearcher.get_answers(Userid,'all')\n",
    "    \n",
    "    #Here, we should better in the future check answers to make sure the format is correct!\n",
    "    #XXX\n",
    "    \n",
    "    \n",
    "    def answers_to_state_reward(answers):\n",
    "        \"\"\"\n",
    "        Turn user answers into state and reward\n",
    "        In this dummy example, we are simply calculating the proportion of 'broccoli' and 'asparagus'\n",
    "        \"\"\"\n",
    "        from collections import Counter\n",
    "        #print(answers)\n",
    "        food_names = [item[0] for item in answers]\n",
    "        #print(food_names)\n",
    "        counts = Counter(food_names)\n",
    "        \n",
    "        return counts\n",
    "    def RL_algorithm(state_reward):\n",
    "        \"\"\"\n",
    "        A dummy RL method. To be implemented by researchers\n",
    "        The example is simply counting the number of having greens as meal\n",
    "        \"\"\"\n",
    "        ngreens=state_reward['broccoli']+state_reward['asparagus']\n",
    "        if ngreens>=3:\n",
    "            action=f\"Ate greens for {ngreens} times, good job eating your greens\"\n",
    "        else:\n",
    "            action=f'Ate greens for {ngreens} times, try to eat more greens'\n",
    "        return action\n",
    "    \n",
    "    state_reward=answers_to_state_reward(answers) \n",
    "    #print(state_reward)\n",
    "    action=RL_algorithm(state_reward)\n",
    "    #print(action)\n",
    "    \n",
    "    return action  \n",
    "def push_intervention(Userid, message):\n",
    "    \"\"\"\n",
    "    This function save a specific message to the database\n",
    "    (The message will then be pushed to the frontend)\n",
    "    \"\"\"\n",
    "    print(\"notification to be implemented: \"+message)\n",
    "    ReinLifeResearcher.notification2db(Userid, message=message, option='message')\n",
    "\n",
    "\n",
    "def RL_all_useres():\n",
    "    '''\n",
    "    This is a helper function that do loop to run RL algorithm for all the users in an experiment\n",
    "    '''\n",
    "    Userlist=ReinLifeResearcher.list_all_userid()\n",
    "    for Userid in Userlist:\n",
    "        print(f\"Now, doing RL for User:{Userid}\")\n",
    "        actionmessage=researcher_RL_code(Userid)\n",
    "        push_intervention(Userid,actionmessage)\n",
    "        \n",
    "#Probably need to be implemented(?):\n",
    "#We still need a scheduler (or trigger) to set when to push notification, when to run RL algorithm"
   ]
  },
  {
   "cell_type": "code",
   "execution_count": 3,
   "id": "9c71c9a9",
   "metadata": {},
   "outputs": [
    {
     "name": "stdout",
     "output_type": "stream",
     "text": [
      "questionnaire1\n",
      "1\n",
      "[{'questionId': 1, 'questionText': 'How many hours did you sleep yesterday?', 'questionType': 'Open Text'}, {'questionId': 2, 'questionText': 'What is your mood today?', 'questionType': 'Rating Scale', 'minValue': 1, 'maxValue': 5}, {'questionId': 3, 'questionText': 'Have you followed the sleep improving guideline?', 'questionType': 'Multiple Choice', 'options': ['Yes', 'No']}]\n"
     ]
    }
   ],
   "source": [
    "output = ReinLifeResearcher.readjson('./questionnairesbackup.json')\n",
    "\n",
    "for questionnaire_name, questions in output.items():\n",
    "    print(questionnaire_name)\n",
    "    print(questions[\"questionnaireId\"])\n",
    "    print(questions[\"questions\"])\n",
    "    "
   ]
  },
  {
   "cell_type": "code",
   "execution_count": 4,
   "id": "81b189a5",
   "metadata": {},
   "outputs": [],
   "source": [
    "#Use this function to set experiments\n",
    "ReinLifeResearcher.set_experiment(inputfile='./experiment_info.json')\n",
    "#Use this function to set questionnaires. The \n",
    "ReinLifeResearcher.set_questionnaires(inputfile='./questionnairesbackup.json')"
   ]
  },
  {
   "cell_type": "code",
   "execution_count": 5,
   "id": "a6f4f406",
   "metadata": {},
   "outputs": [
    {
     "name": "stdout",
     "output_type": "stream",
     "text": [
      "['4omYRQTWFaQEoU3DhWD8', 'cUlNWNGv_e07Ht6DC4Pyvx:APA91bGd_qINVFlc8eNfVPwX5huJJIMekyRrud7eJWOyrMGZPHGBjETJOq6kjEtwKJq00aw239thsSb3g6gF-NtZa3bv2HdNSzmg6fdqBazIGexvAqwVERRIET7aMPQZuE0CwG56CDMV', 'cUlNWNGv_e07Ht6DC4Pyvx:APA91bHFZtKqy0e7LA3p2ROsyqSjh-mSNxrBCw6IxWh_R0YUvqo2rb69YnaQM1oijzIJWIBf8Kj_AfEB4X8y_XlFlMoMlW1I2wFOETDLcLdIl9XPjDMFXVL3_SUoJo40vRsHiSKNKH6z', 'cUlNWNGv_e07Ht6DC4Pyvx:APA91bHtQR3CjzZkirQypaQX6QosAvekq2ULbKKzWP-o7QBg9dGMU7ed6plEfIk6yUUFN0FqKSQ5CGx67o3-yK5No3TOPmQ_3HYh9pET2K0pzX6uIk0tQaw_jOArW816DZo3yyBhTWYY', 'cXM9ra8iBP_5sJRT8ZChR7:APA91bGMbPT7zPmYnDtJT_ytoC4hMfRv3L5zMUitz3m64BFPUDZ4zHQOE-m-iISmDf-bX4dcTYeYN8dzHVf_ne5n4C9U2MlB6QL4i0WcCm41gwLGZRCI2NRKmBH1bQLj4hrh4vXbRwJy', 'cXcdhZkxFhoNEIHFGihZG3:APA91bHmWLWHoCGEJhciuXDvk_8DW6_DQM9BSM1sp-lCrdrSJGqKlYyIlQ9lurzYo-HgsKtm87LMq6oHlGa1EQDCJNrHXudoso0Hs6ffQ_modP0srWuqlxyGyWoY45xqDnotpW-fRZ7Y', 'caZSPlKe5eUPEkxqwkjp', 'cxR0fagCbNtjD1qAwhsTQJ:APA91bEN6272ke-ZD1CyridId1kLA2IlmIt8aeqwUwCHpOW9bLMDr8SLL8YyNiqIc44G8ynybDomdl_o91QDRAMg3DEJ-58Y9zHtOG6NlkCRjuJF7e5kqHPqiXSwgpuVCxBxgr9wNKto', 'cxR0fagCbNtjD1qAwhsTQJ:APA91bEkGzAOnkzuqm2GAfuGR904EIDK-C2v2Ftrp-4QUnWdIINmA2KOv0qqCQ9cLIfC2N765FN-NOK2KErKdKw-h8LIbw5mMlVS59U_v2AcCgq5D6f8TzWQEXjwGLUaWvwCLru6oPAM', 'cxR0fagCbNtjD1qAwhsTQJ:APA91bF0JRLSQ7Rp-0UTIG41KyIx9B-e4PS1L6EZZk8qp0mkFr9g_Hvg1ZPl2DQoM8WvSPA3DokC4_6n8kMsS8FJQfZqYUxiZ6zumftivj-Xif___vxxCHPaTFXdw3RpsRrMFfQRMsKm', 'cxR0fagCbNtjD1qAwhsTQJ:APA91bFnRpSkcjP97fhDD3eVRjsAkMqI60q5DHwojeX6z0vD2ILxRrV3WjRA86iExkKGPg5S0O4Y8ipM7lmEAOxUFJnpqR0O1_f7xxGgQh7Ke_U8S2yGppsaZvbOAlckJU7qAeCf6szv', 'cxR0fagCbNtjD1qAwhsTQJ:APA91bGk_JmnHt0F7VuQ9dO2VKctVrBSeeI4Zo91DXizknsdWs0hLFojF2Yi1Ap4Boc4KU50fqo9-ir-yjN_IMu8YjL5wxapgaaE4cXgIgiQs46i2J5h31YyE6QlFemo5pqDLgze2tvg', 'cxR0fagCbNtjD1qAwhsTQJ:APA91bHXW9hpissFwnoiwKj68_E7gpx2EH7yr7mypLZVEnapeFYO9vcJ7eDjuiFehOuGX2pb5wlJQPZn1O6l90fCr2nQzuzdJM7dxG4-I9a9cgAHlf617_c-WdCFT_BxZKb_XE8Z0Can', 'cxR0fagCbNtjD1qAwhsTQJ:APA91bHcwIxTPzr6lAM9dck9_ZPr4RnSISEo17hElNT-UDTmtOAMeZaXkS5c2CAvM445L4-ojXj4lkv34MYU7VzI6Mh4EpKnzj62BxGMl0d4_i5KJYFqlfGQGXxOyZnC_Zyk6fK8w2Ti', 'czXbS-fdqZUnkwFueIw-Zv:APA91bE40XSvsXpi9d3A6EVEH5rhHa-uYKvrwQBhgxo-f-yyy79QKjWCzfJkx8M0gXJF05sttuRqPNJtMd_hXyUSRbtYebNBB2afx8boLm0B2Lt_Jwbtd2PSUtXhP0caJkpruyYuNZkc', 'czXbS-fdqZUnkwFueIw-Zv:APA91bEaoQe-PWr4va6-CGx4NNhcelK7QgNUj7vAQvuJSGgbsrEv402hXjGCmFEjMlUSDxvnNEOvzY4TfrXSfyuevw6TUL97FJ0y1zl5_kgO6d-cw2D0T2LozfM8S0w6Mw3lu2MjGyKY', 'czXbS-fdqZUnkwFueIw-Zv:APA91bErS3OavndTY0mf2Mw7fKGdfPrS0mUEyJY1N0Dae2t5bjDbayyklSckyfJNh4hJEEfI4QV0-Oetx2mCalfk8lULij85XeG-qolYdmoArtZEos5w8usYx7EoO6SJ49RXmkOhds-i', 'czXbS-fdqZUnkwFueIw-Zv:APA91bHcPzFg6tF-yFa2VjKretZcuV8hsXg4wCaI053uz4xIUh1_uWF1FFf7Qn8gO_UZAJCx3R30yHSvvtzYaiFQijbXY0scEj4VjtPx8MDyLpinb3Jk0NrXRER2YESuSaH7CPFZWmGa', 'eEUeEt4Pq1dwZHwRspE9Nf:APA91bE_qf_4cSONgt_HQNj2LsXVpoTYlIHSQAWe9maZDm8XVhWSLekeIt9BOoNc0k4HRNbWM5MIb21DMi4pAJmK6_SGTJVgnZhw19H6SRGORFbm8oooCZZuK74srfTIEc9TRsn_JZ83', 'eEUeEt4Pq1dwZHwRspE9Nf:APA91bFO3RXE2dgFFiPSj1lk0OVyzBy_F1XzLNUH_jEVNY86fmrN0nQtZCsitp38EBnm7rxVgKfCK9K1gA548dIg7mEV2WKTycvuBUH9bPZrqMOsW2pTYwigoWFE4n9lJ9a8l3r6-1Mo', 'eEUeEt4Pq1dwZHwRspE9Nf:APA91bHw92k5wBM_FD8i_BUOTIfgw3fb2fW5yplDgKditcC231LoVjZ3l-DQ2jP8aCUPMNLsho4Mx_OKXLQnS1FhawDvjz38NzsVlUCVV5NUS4WQ_lIfEIW432lB5AMmh_6gmR9K4UdC', 'efB2NH6U0ELUpzST-Ze1py:APA91bFuKQR7ixsL4rOd5asOQ5lff2jjwIy7O3HUnEkppDE643x-6MwMRqxBX4VvIV3d9wULbnyHPK0dqvejKLn7I-9VyEDvCf5HCx0eu7WOBTu1Zv65pJHNqjAXb9R4d_ZKFy0Bbyj6', 'ekLCEziB7MZUPM1Fiw2rRs:APA91bEYfvm1k3yuwomrNUP2Hc9U4qnL_92wSD46AEt6RJKn8X9jSJMqZmlTcQLSk2E7gAO4MdIJ6C2rFJ3kS4kk78lG55o4Y4oaoWlXXElW6xVrbHutzXOPmr-KwgvFpgfFHfgjDKPx', 'eySTNLBczpnnLikieAM8TS:APA91bEef_NzGO67wPYaHy7xYxQ7EWplE4kKwTj3m3oek0ioyC9Hc8euV1sfOV6byrVunTe8r8JsV9gc_gfg52_zMWVRhyhD73fKa2nTgQOGUe2yKHYC_NL-jOf1PrNHexLx5Xpj-e-n', 'f0wcpswZOWwAP5RwtAwFvp:APA91bFgyvLnlHhw05k2IJDuh2ZvBy1Kxin4UL7JVj6lcwnAQZssnAc7gYRWUdz071V4c1xOaITFxAPDkhsO-Ut9GhYgAbTGGvBPOIfLcTAAZoAH4dR5Ykc8RyFHucTxCUIJEin0J3QO', 'fwLudwJsRkeLArsTG9dEoM:APA91bFdc7qX85fYeUDFiU2_J1r3YLIR3IEKe5-LflTLjL-fyjfsVaTkdvYBCa3X4dXKQEHlVRL701MXYEmxrjqr6R4e61vowMeqIRr5aMUFosfVi0eFfII28uMhAUQ4Y6Nve0EaDbGP']\n"
     ]
    },
    {
     "data": {
      "text/plain": [
       "['4omYRQTWFaQEoU3DhWD8',\n",
       " 'cUlNWNGv_e07Ht6DC4Pyvx:APA91bGd_qINVFlc8eNfVPwX5huJJIMekyRrud7eJWOyrMGZPHGBjETJOq6kjEtwKJq00aw239thsSb3g6gF-NtZa3bv2HdNSzmg6fdqBazIGexvAqwVERRIET7aMPQZuE0CwG56CDMV',\n",
       " 'cUlNWNGv_e07Ht6DC4Pyvx:APA91bHFZtKqy0e7LA3p2ROsyqSjh-mSNxrBCw6IxWh_R0YUvqo2rb69YnaQM1oijzIJWIBf8Kj_AfEB4X8y_XlFlMoMlW1I2wFOETDLcLdIl9XPjDMFXVL3_SUoJo40vRsHiSKNKH6z',\n",
       " 'cUlNWNGv_e07Ht6DC4Pyvx:APA91bHtQR3CjzZkirQypaQX6QosAvekq2ULbKKzWP-o7QBg9dGMU7ed6plEfIk6yUUFN0FqKSQ5CGx67o3-yK5No3TOPmQ_3HYh9pET2K0pzX6uIk0tQaw_jOArW816DZo3yyBhTWYY',\n",
       " 'cXM9ra8iBP_5sJRT8ZChR7:APA91bGMbPT7zPmYnDtJT_ytoC4hMfRv3L5zMUitz3m64BFPUDZ4zHQOE-m-iISmDf-bX4dcTYeYN8dzHVf_ne5n4C9U2MlB6QL4i0WcCm41gwLGZRCI2NRKmBH1bQLj4hrh4vXbRwJy',\n",
       " 'cXcdhZkxFhoNEIHFGihZG3:APA91bHmWLWHoCGEJhciuXDvk_8DW6_DQM9BSM1sp-lCrdrSJGqKlYyIlQ9lurzYo-HgsKtm87LMq6oHlGa1EQDCJNrHXudoso0Hs6ffQ_modP0srWuqlxyGyWoY45xqDnotpW-fRZ7Y',\n",
       " 'caZSPlKe5eUPEkxqwkjp',\n",
       " 'cxR0fagCbNtjD1qAwhsTQJ:APA91bEN6272ke-ZD1CyridId1kLA2IlmIt8aeqwUwCHpOW9bLMDr8SLL8YyNiqIc44G8ynybDomdl_o91QDRAMg3DEJ-58Y9zHtOG6NlkCRjuJF7e5kqHPqiXSwgpuVCxBxgr9wNKto',\n",
       " 'cxR0fagCbNtjD1qAwhsTQJ:APA91bEkGzAOnkzuqm2GAfuGR904EIDK-C2v2Ftrp-4QUnWdIINmA2KOv0qqCQ9cLIfC2N765FN-NOK2KErKdKw-h8LIbw5mMlVS59U_v2AcCgq5D6f8TzWQEXjwGLUaWvwCLru6oPAM',\n",
       " 'cxR0fagCbNtjD1qAwhsTQJ:APA91bF0JRLSQ7Rp-0UTIG41KyIx9B-e4PS1L6EZZk8qp0mkFr9g_Hvg1ZPl2DQoM8WvSPA3DokC4_6n8kMsS8FJQfZqYUxiZ6zumftivj-Xif___vxxCHPaTFXdw3RpsRrMFfQRMsKm',\n",
       " 'cxR0fagCbNtjD1qAwhsTQJ:APA91bFnRpSkcjP97fhDD3eVRjsAkMqI60q5DHwojeX6z0vD2ILxRrV3WjRA86iExkKGPg5S0O4Y8ipM7lmEAOxUFJnpqR0O1_f7xxGgQh7Ke_U8S2yGppsaZvbOAlckJU7qAeCf6szv',\n",
       " 'cxR0fagCbNtjD1qAwhsTQJ:APA91bGk_JmnHt0F7VuQ9dO2VKctVrBSeeI4Zo91DXizknsdWs0hLFojF2Yi1Ap4Boc4KU50fqo9-ir-yjN_IMu8YjL5wxapgaaE4cXgIgiQs46i2J5h31YyE6QlFemo5pqDLgze2tvg',\n",
       " 'cxR0fagCbNtjD1qAwhsTQJ:APA91bHXW9hpissFwnoiwKj68_E7gpx2EH7yr7mypLZVEnapeFYO9vcJ7eDjuiFehOuGX2pb5wlJQPZn1O6l90fCr2nQzuzdJM7dxG4-I9a9cgAHlf617_c-WdCFT_BxZKb_XE8Z0Can',\n",
       " 'cxR0fagCbNtjD1qAwhsTQJ:APA91bHcwIxTPzr6lAM9dck9_ZPr4RnSISEo17hElNT-UDTmtOAMeZaXkS5c2CAvM445L4-ojXj4lkv34MYU7VzI6Mh4EpKnzj62BxGMl0d4_i5KJYFqlfGQGXxOyZnC_Zyk6fK8w2Ti',\n",
       " 'czXbS-fdqZUnkwFueIw-Zv:APA91bE40XSvsXpi9d3A6EVEH5rhHa-uYKvrwQBhgxo-f-yyy79QKjWCzfJkx8M0gXJF05sttuRqPNJtMd_hXyUSRbtYebNBB2afx8boLm0B2Lt_Jwbtd2PSUtXhP0caJkpruyYuNZkc',\n",
       " 'czXbS-fdqZUnkwFueIw-Zv:APA91bEaoQe-PWr4va6-CGx4NNhcelK7QgNUj7vAQvuJSGgbsrEv402hXjGCmFEjMlUSDxvnNEOvzY4TfrXSfyuevw6TUL97FJ0y1zl5_kgO6d-cw2D0T2LozfM8S0w6Mw3lu2MjGyKY',\n",
       " 'czXbS-fdqZUnkwFueIw-Zv:APA91bErS3OavndTY0mf2Mw7fKGdfPrS0mUEyJY1N0Dae2t5bjDbayyklSckyfJNh4hJEEfI4QV0-Oetx2mCalfk8lULij85XeG-qolYdmoArtZEos5w8usYx7EoO6SJ49RXmkOhds-i',\n",
       " 'czXbS-fdqZUnkwFueIw-Zv:APA91bHcPzFg6tF-yFa2VjKretZcuV8hsXg4wCaI053uz4xIUh1_uWF1FFf7Qn8gO_UZAJCx3R30yHSvvtzYaiFQijbXY0scEj4VjtPx8MDyLpinb3Jk0NrXRER2YESuSaH7CPFZWmGa',\n",
       " 'eEUeEt4Pq1dwZHwRspE9Nf:APA91bE_qf_4cSONgt_HQNj2LsXVpoTYlIHSQAWe9maZDm8XVhWSLekeIt9BOoNc0k4HRNbWM5MIb21DMi4pAJmK6_SGTJVgnZhw19H6SRGORFbm8oooCZZuK74srfTIEc9TRsn_JZ83',\n",
       " 'eEUeEt4Pq1dwZHwRspE9Nf:APA91bFO3RXE2dgFFiPSj1lk0OVyzBy_F1XzLNUH_jEVNY86fmrN0nQtZCsitp38EBnm7rxVgKfCK9K1gA548dIg7mEV2WKTycvuBUH9bPZrqMOsW2pTYwigoWFE4n9lJ9a8l3r6-1Mo',\n",
       " 'eEUeEt4Pq1dwZHwRspE9Nf:APA91bHw92k5wBM_FD8i_BUOTIfgw3fb2fW5yplDgKditcC231LoVjZ3l-DQ2jP8aCUPMNLsho4Mx_OKXLQnS1FhawDvjz38NzsVlUCVV5NUS4WQ_lIfEIW432lB5AMmh_6gmR9K4UdC',\n",
       " 'efB2NH6U0ELUpzST-Ze1py:APA91bFuKQR7ixsL4rOd5asOQ5lff2jjwIy7O3HUnEkppDE643x-6MwMRqxBX4VvIV3d9wULbnyHPK0dqvejKLn7I-9VyEDvCf5HCx0eu7WOBTu1Zv65pJHNqjAXb9R4d_ZKFy0Bbyj6',\n",
       " 'ekLCEziB7MZUPM1Fiw2rRs:APA91bEYfvm1k3yuwomrNUP2Hc9U4qnL_92wSD46AEt6RJKn8X9jSJMqZmlTcQLSk2E7gAO4MdIJ6C2rFJ3kS4kk78lG55o4Y4oaoWlXXElW6xVrbHutzXOPmr-KwgvFpgfFHfgjDKPx',\n",
       " 'eySTNLBczpnnLikieAM8TS:APA91bEef_NzGO67wPYaHy7xYxQ7EWplE4kKwTj3m3oek0ioyC9Hc8euV1sfOV6byrVunTe8r8JsV9gc_gfg52_zMWVRhyhD73fKa2nTgQOGUe2yKHYC_NL-jOf1PrNHexLx5Xpj-e-n',\n",
       " 'f0wcpswZOWwAP5RwtAwFvp:APA91bFgyvLnlHhw05k2IJDuh2ZvBy1Kxin4UL7JVj6lcwnAQZssnAc7gYRWUdz071V4c1xOaITFxAPDkhsO-Ut9GhYgAbTGGvBPOIfLcTAAZoAH4dR5Ykc8RyFHucTxCUIJEin0J3QO',\n",
       " 'fwLudwJsRkeLArsTG9dEoM:APA91bFdc7qX85fYeUDFiU2_J1r3YLIR3IEKe5-LflTLjL-fyjfsVaTkdvYBCa3X4dXKQEHlVRL701MXYEmxrjqr6R4e61vowMeqIRr5aMUFosfVi0eFfII28uMhAUQ4Y6Nve0EaDbGP']"
      ]
     },
     "execution_count": 5,
     "metadata": {},
     "output_type": "execute_result"
    }
   ],
   "source": [
    "#This is a helper function to list all user's id in the database\n",
    "ReinLifeResearcher.list_all_userid()"
   ]
  },
  {
   "cell_type": "code",
   "execution_count": 30,
   "id": "b7f33c9d",
   "metadata": {},
   "outputs": [
    {
     "name": "stdout",
     "output_type": "stream",
     "text": [
      "saved questionnaire reminder, title: \"new questionnaire!\"  ID: \"1\" to database!\n"
     ]
    }
   ],
   "source": [
    "userid = 'c3pvuofBs59m7prAOeEcMX:APA91bFJHNsLG3lg30WjECiNNr9ktBcQGc_vOfkJGF8mK4eIFoLcgoMcLF5bDU972AJuP-02I2hBW2bK-Xngn7BRCqTfyBcpfQqh25GIn5G4juWg-7QHwzblQIreB53gD_FjpX79PtFa'\n",
    "#Use this function to remind answers to take the questionnaire survey\n",
    "ReinLifeResearcher.notification2db(userid,title='new questionnaire!',option='questionnaire',questionnaireID=1)"
   ]
  },
  {
   "cell_type": "code",
   "execution_count": 31,
   "id": "c72b4da9",
   "metadata": {},
   "outputs": [
    {
     "name": "stdout",
     "output_type": "stream",
     "text": [
      "getting answers of User:c3pvuofBs59m7prAOeEcMX:APA91bFJHNsLG3lg30WjECiNNr9ktBcQGc_vOfkJGF8mK4eIFoLcgoMcLF5bDU972AJuP-02I2hBW2bK-Xngn7BRCqTfyBcpfQqh25GIn5G4juWg-7QHwzblQIreB53gD_FjpX79PtFa, option: all\n",
      "Ate greens for 0 times, try to eat more greens\n",
      "notification to be implemented: 笨3\n",
      "saved notification \"笨3\" to database!\n"
     ]
    }
   ],
   "source": [
    "#This is an example running RL algorithm for user with ID 'caZSPlKe5eUPEkxqwkjp'\n",
    "import time\n",
    "time.sleep(2)\n",
    "message=researcher_RL_code(userid)\n",
    "print(message)\n",
    "push_intervention(userid,\"笨3\")"
   ]
  },
  {
   "cell_type": "code",
   "execution_count": 20,
   "id": "4f7bba4d",
   "metadata": {},
   "outputs": [
    {
     "name": "stdout",
     "output_type": "stream",
     "text": [
      "['4omYRQTWFaQEoU3DhWD8', 'cUlNWNGv_e07Ht6DC4Pyvx:APA91bGd_qINVFlc8eNfVPwX5huJJIMekyRrud7eJWOyrMGZPHGBjETJOq6kjEtwKJq00aw239thsSb3g6gF-NtZa3bv2HdNSzmg6fdqBazIGexvAqwVERRIET7aMPQZuE0CwG56CDMV', 'cUlNWNGv_e07Ht6DC4Pyvx:APA91bHFZtKqy0e7LA3p2ROsyqSjh-mSNxrBCw6IxWh_R0YUvqo2rb69YnaQM1oijzIJWIBf8Kj_AfEB4X8y_XlFlMoMlW1I2wFOETDLcLdIl9XPjDMFXVL3_SUoJo40vRsHiSKNKH6z', 'cUlNWNGv_e07Ht6DC4Pyvx:APA91bHtQR3CjzZkirQypaQX6QosAvekq2ULbKKzWP-o7QBg9dGMU7ed6plEfIk6yUUFN0FqKSQ5CGx67o3-yK5No3TOPmQ_3HYh9pET2K0pzX6uIk0tQaw_jOArW816DZo3yyBhTWYY', 'cXM9ra8iBP_5sJRT8ZChR7:APA91bGMbPT7zPmYnDtJT_ytoC4hMfRv3L5zMUitz3m64BFPUDZ4zHQOE-m-iISmDf-bX4dcTYeYN8dzHVf_ne5n4C9U2MlB6QL4i0WcCm41gwLGZRCI2NRKmBH1bQLj4hrh4vXbRwJy', 'cXcdhZkxFhoNEIHFGihZG3:APA91bHmWLWHoCGEJhciuXDvk_8DW6_DQM9BSM1sp-lCrdrSJGqKlYyIlQ9lurzYo-HgsKtm87LMq6oHlGa1EQDCJNrHXudoso0Hs6ffQ_modP0srWuqlxyGyWoY45xqDnotpW-fRZ7Y', 'caZSPlKe5eUPEkxqwkjp', 'cxR0fagCbNtjD1qAwhsTQJ:APA91bEN6272ke-ZD1CyridId1kLA2IlmIt8aeqwUwCHpOW9bLMDr8SLL8YyNiqIc44G8ynybDomdl_o91QDRAMg3DEJ-58Y9zHtOG6NlkCRjuJF7e5kqHPqiXSwgpuVCxBxgr9wNKto', 'cxR0fagCbNtjD1qAwhsTQJ:APA91bEkGzAOnkzuqm2GAfuGR904EIDK-C2v2Ftrp-4QUnWdIINmA2KOv0qqCQ9cLIfC2N765FN-NOK2KErKdKw-h8LIbw5mMlVS59U_v2AcCgq5D6f8TzWQEXjwGLUaWvwCLru6oPAM', 'cxR0fagCbNtjD1qAwhsTQJ:APA91bF0JRLSQ7Rp-0UTIG41KyIx9B-e4PS1L6EZZk8qp0mkFr9g_Hvg1ZPl2DQoM8WvSPA3DokC4_6n8kMsS8FJQfZqYUxiZ6zumftivj-Xif___vxxCHPaTFXdw3RpsRrMFfQRMsKm', 'cxR0fagCbNtjD1qAwhsTQJ:APA91bFnRpSkcjP97fhDD3eVRjsAkMqI60q5DHwojeX6z0vD2ILxRrV3WjRA86iExkKGPg5S0O4Y8ipM7lmEAOxUFJnpqR0O1_f7xxGgQh7Ke_U8S2yGppsaZvbOAlckJU7qAeCf6szv', 'cxR0fagCbNtjD1qAwhsTQJ:APA91bGk_JmnHt0F7VuQ9dO2VKctVrBSeeI4Zo91DXizknsdWs0hLFojF2Yi1Ap4Boc4KU50fqo9-ir-yjN_IMu8YjL5wxapgaaE4cXgIgiQs46i2J5h31YyE6QlFemo5pqDLgze2tvg', 'cxR0fagCbNtjD1qAwhsTQJ:APA91bHXW9hpissFwnoiwKj68_E7gpx2EH7yr7mypLZVEnapeFYO9vcJ7eDjuiFehOuGX2pb5wlJQPZn1O6l90fCr2nQzuzdJM7dxG4-I9a9cgAHlf617_c-WdCFT_BxZKb_XE8Z0Can', 'cxR0fagCbNtjD1qAwhsTQJ:APA91bHcwIxTPzr6lAM9dck9_ZPr4RnSISEo17hElNT-UDTmtOAMeZaXkS5c2CAvM445L4-ojXj4lkv34MYU7VzI6Mh4EpKnzj62BxGMl0d4_i5KJYFqlfGQGXxOyZnC_Zyk6fK8w2Ti', 'czXbS-fdqZUnkwFueIw-Zv:APA91bE40XSvsXpi9d3A6EVEH5rhHa-uYKvrwQBhgxo-f-yyy79QKjWCzfJkx8M0gXJF05sttuRqPNJtMd_hXyUSRbtYebNBB2afx8boLm0B2Lt_Jwbtd2PSUtXhP0caJkpruyYuNZkc', 'czXbS-fdqZUnkwFueIw-Zv:APA91bEaoQe-PWr4va6-CGx4NNhcelK7QgNUj7vAQvuJSGgbsrEv402hXjGCmFEjMlUSDxvnNEOvzY4TfrXSfyuevw6TUL97FJ0y1zl5_kgO6d-cw2D0T2LozfM8S0w6Mw3lu2MjGyKY', 'czXbS-fdqZUnkwFueIw-Zv:APA91bErS3OavndTY0mf2Mw7fKGdfPrS0mUEyJY1N0Dae2t5bjDbayyklSckyfJNh4hJEEfI4QV0-Oetx2mCalfk8lULij85XeG-qolYdmoArtZEos5w8usYx7EoO6SJ49RXmkOhds-i', 'czXbS-fdqZUnkwFueIw-Zv:APA91bHcPzFg6tF-yFa2VjKretZcuV8hsXg4wCaI053uz4xIUh1_uWF1FFf7Qn8gO_UZAJCx3R30yHSvvtzYaiFQijbXY0scEj4VjtPx8MDyLpinb3Jk0NrXRER2YESuSaH7CPFZWmGa', 'eEUeEt4Pq1dwZHwRspE9Nf:APA91bE_qf_4cSONgt_HQNj2LsXVpoTYlIHSQAWe9maZDm8XVhWSLekeIt9BOoNc0k4HRNbWM5MIb21DMi4pAJmK6_SGTJVgnZhw19H6SRGORFbm8oooCZZuK74srfTIEc9TRsn_JZ83', 'eEUeEt4Pq1dwZHwRspE9Nf:APA91bFO3RXE2dgFFiPSj1lk0OVyzBy_F1XzLNUH_jEVNY86fmrN0nQtZCsitp38EBnm7rxVgKfCK9K1gA548dIg7mEV2WKTycvuBUH9bPZrqMOsW2pTYwigoWFE4n9lJ9a8l3r6-1Mo', 'eEUeEt4Pq1dwZHwRspE9Nf:APA91bHw92k5wBM_FD8i_BUOTIfgw3fb2fW5yplDgKditcC231LoVjZ3l-DQ2jP8aCUPMNLsho4Mx_OKXLQnS1FhawDvjz38NzsVlUCVV5NUS4WQ_lIfEIW432lB5AMmh_6gmR9K4UdC', 'efB2NH6U0ELUpzST-Ze1py:APA91bFuKQR7ixsL4rOd5asOQ5lff2jjwIy7O3HUnEkppDE643x-6MwMRqxBX4VvIV3d9wULbnyHPK0dqvejKLn7I-9VyEDvCf5HCx0eu7WOBTu1Zv65pJHNqjAXb9R4d_ZKFy0Bbyj6', 'ekLCEziB7MZUPM1Fiw2rRs:APA91bEYfvm1k3yuwomrNUP2Hc9U4qnL_92wSD46AEt6RJKn8X9jSJMqZmlTcQLSk2E7gAO4MdIJ6C2rFJ3kS4kk78lG55o4Y4oaoWlXXElW6xVrbHutzXOPmr-KwgvFpgfFHfgjDKPx', 'eySTNLBczpnnLikieAM8TS:APA91bEef_NzGO67wPYaHy7xYxQ7EWplE4kKwTj3m3oek0ioyC9Hc8euV1sfOV6byrVunTe8r8JsV9gc_gfg52_zMWVRhyhD73fKa2nTgQOGUe2yKHYC_NL-jOf1PrNHexLx5Xpj-e-n', 'f0wcpswZOWwAP5RwtAwFvp:APA91bFgyvLnlHhw05k2IJDuh2ZvBy1Kxin4UL7JVj6lcwnAQZssnAc7gYRWUdz071V4c1xOaITFxAPDkhsO-Ut9GhYgAbTGGvBPOIfLcTAAZoAH4dR5Ykc8RyFHucTxCUIJEin0J3QO', 'fwLudwJsRkeLArsTG9dEoM:APA91bFdc7qX85fYeUDFiU2_J1r3YLIR3IEKe5-LflTLjL-fyjfsVaTkdvYBCa3X4dXKQEHlVRL701MXYEmxrjqr6R4e61vowMeqIRr5aMUFosfVi0eFfII28uMhAUQ4Y6Nve0EaDbGP']\n",
      "Now, doing RL for User:4omYRQTWFaQEoU3DhWD8\n",
      "getting answers of User:4omYRQTWFaQEoU3DhWD8, option: all\n",
      "notification to be implemented: Ate greens for 0 times, try to eat more greens\n",
      "saved notification \"Ate greens for 0 times, try to eat more greens\" to database!\n",
      "Now, doing RL for User:cUlNWNGv_e07Ht6DC4Pyvx:APA91bGd_qINVFlc8eNfVPwX5huJJIMekyRrud7eJWOyrMGZPHGBjETJOq6kjEtwKJq00aw239thsSb3g6gF-NtZa3bv2HdNSzmg6fdqBazIGexvAqwVERRIET7aMPQZuE0CwG56CDMV\n",
      "getting answers of User:cUlNWNGv_e07Ht6DC4Pyvx:APA91bGd_qINVFlc8eNfVPwX5huJJIMekyRrud7eJWOyrMGZPHGBjETJOq6kjEtwKJq00aw239thsSb3g6gF-NtZa3bv2HdNSzmg6fdqBazIGexvAqwVERRIET7aMPQZuE0CwG56CDMV, option: all\n",
      "notification to be implemented: Ate greens for 0 times, try to eat more greens\n",
      "saved notification \"Ate greens for 0 times, try to eat more greens\" to database!\n",
      "Now, doing RL for User:cUlNWNGv_e07Ht6DC4Pyvx:APA91bHFZtKqy0e7LA3p2ROsyqSjh-mSNxrBCw6IxWh_R0YUvqo2rb69YnaQM1oijzIJWIBf8Kj_AfEB4X8y_XlFlMoMlW1I2wFOETDLcLdIl9XPjDMFXVL3_SUoJo40vRsHiSKNKH6z\n",
      "getting answers of User:cUlNWNGv_e07Ht6DC4Pyvx:APA91bHFZtKqy0e7LA3p2ROsyqSjh-mSNxrBCw6IxWh_R0YUvqo2rb69YnaQM1oijzIJWIBf8Kj_AfEB4X8y_XlFlMoMlW1I2wFOETDLcLdIl9XPjDMFXVL3_SUoJo40vRsHiSKNKH6z, option: all\n",
      "notification to be implemented: Ate greens for 0 times, try to eat more greens\n",
      "saved notification \"Ate greens for 0 times, try to eat more greens\" to database!\n",
      "Now, doing RL for User:cUlNWNGv_e07Ht6DC4Pyvx:APA91bHtQR3CjzZkirQypaQX6QosAvekq2ULbKKzWP-o7QBg9dGMU7ed6plEfIk6yUUFN0FqKSQ5CGx67o3-yK5No3TOPmQ_3HYh9pET2K0pzX6uIk0tQaw_jOArW816DZo3yyBhTWYY\n",
      "getting answers of User:cUlNWNGv_e07Ht6DC4Pyvx:APA91bHtQR3CjzZkirQypaQX6QosAvekq2ULbKKzWP-o7QBg9dGMU7ed6plEfIk6yUUFN0FqKSQ5CGx67o3-yK5No3TOPmQ_3HYh9pET2K0pzX6uIk0tQaw_jOArW816DZo3yyBhTWYY, option: all\n",
      "notification to be implemented: Ate greens for 0 times, try to eat more greens\n",
      "saved notification \"Ate greens for 0 times, try to eat more greens\" to database!\n",
      "Now, doing RL for User:cXM9ra8iBP_5sJRT8ZChR7:APA91bGMbPT7zPmYnDtJT_ytoC4hMfRv3L5zMUitz3m64BFPUDZ4zHQOE-m-iISmDf-bX4dcTYeYN8dzHVf_ne5n4C9U2MlB6QL4i0WcCm41gwLGZRCI2NRKmBH1bQLj4hrh4vXbRwJy\n",
      "getting answers of User:cXM9ra8iBP_5sJRT8ZChR7:APA91bGMbPT7zPmYnDtJT_ytoC4hMfRv3L5zMUitz3m64BFPUDZ4zHQOE-m-iISmDf-bX4dcTYeYN8dzHVf_ne5n4C9U2MlB6QL4i0WcCm41gwLGZRCI2NRKmBH1bQLj4hrh4vXbRwJy, option: all\n",
      "notification to be implemented: Ate greens for 0 times, try to eat more greens\n",
      "saved notification \"Ate greens for 0 times, try to eat more greens\" to database!\n",
      "Now, doing RL for User:cXcdhZkxFhoNEIHFGihZG3:APA91bHmWLWHoCGEJhciuXDvk_8DW6_DQM9BSM1sp-lCrdrSJGqKlYyIlQ9lurzYo-HgsKtm87LMq6oHlGa1EQDCJNrHXudoso0Hs6ffQ_modP0srWuqlxyGyWoY45xqDnotpW-fRZ7Y\n",
      "getting answers of User:cXcdhZkxFhoNEIHFGihZG3:APA91bHmWLWHoCGEJhciuXDvk_8DW6_DQM9BSM1sp-lCrdrSJGqKlYyIlQ9lurzYo-HgsKtm87LMq6oHlGa1EQDCJNrHXudoso0Hs6ffQ_modP0srWuqlxyGyWoY45xqDnotpW-fRZ7Y, option: all\n",
      "notification to be implemented: Ate greens for 0 times, try to eat more greens\n",
      "saved notification \"Ate greens for 0 times, try to eat more greens\" to database!\n",
      "Now, doing RL for User:caZSPlKe5eUPEkxqwkjp\n",
      "getting answers of User:caZSPlKe5eUPEkxqwkjp, option: all\n",
      "notification to be implemented: Ate greens for 0 times, try to eat more greens\n",
      "saved notification \"Ate greens for 0 times, try to eat more greens\" to database!\n",
      "Now, doing RL for User:cxR0fagCbNtjD1qAwhsTQJ:APA91bEN6272ke-ZD1CyridId1kLA2IlmIt8aeqwUwCHpOW9bLMDr8SLL8YyNiqIc44G8ynybDomdl_o91QDRAMg3DEJ-58Y9zHtOG6NlkCRjuJF7e5kqHPqiXSwgpuVCxBxgr9wNKto\n",
      "getting answers of User:cxR0fagCbNtjD1qAwhsTQJ:APA91bEN6272ke-ZD1CyridId1kLA2IlmIt8aeqwUwCHpOW9bLMDr8SLL8YyNiqIc44G8ynybDomdl_o91QDRAMg3DEJ-58Y9zHtOG6NlkCRjuJF7e5kqHPqiXSwgpuVCxBxgr9wNKto, option: all\n",
      "notification to be implemented: Ate greens for 0 times, try to eat more greens\n",
      "saved notification \"Ate greens for 0 times, try to eat more greens\" to database!\n",
      "Now, doing RL for User:cxR0fagCbNtjD1qAwhsTQJ:APA91bEkGzAOnkzuqm2GAfuGR904EIDK-C2v2Ftrp-4QUnWdIINmA2KOv0qqCQ9cLIfC2N765FN-NOK2KErKdKw-h8LIbw5mMlVS59U_v2AcCgq5D6f8TzWQEXjwGLUaWvwCLru6oPAM\n",
      "getting answers of User:cxR0fagCbNtjD1qAwhsTQJ:APA91bEkGzAOnkzuqm2GAfuGR904EIDK-C2v2Ftrp-4QUnWdIINmA2KOv0qqCQ9cLIfC2N765FN-NOK2KErKdKw-h8LIbw5mMlVS59U_v2AcCgq5D6f8TzWQEXjwGLUaWvwCLru6oPAM, option: all\n"
     ]
    },
    {
     "name": "stdout",
     "output_type": "stream",
     "text": [
      "notification to be implemented: Ate greens for 0 times, try to eat more greens\n",
      "saved notification \"Ate greens for 0 times, try to eat more greens\" to database!\n",
      "Now, doing RL for User:cxR0fagCbNtjD1qAwhsTQJ:APA91bF0JRLSQ7Rp-0UTIG41KyIx9B-e4PS1L6EZZk8qp0mkFr9g_Hvg1ZPl2DQoM8WvSPA3DokC4_6n8kMsS8FJQfZqYUxiZ6zumftivj-Xif___vxxCHPaTFXdw3RpsRrMFfQRMsKm\n",
      "getting answers of User:cxR0fagCbNtjD1qAwhsTQJ:APA91bF0JRLSQ7Rp-0UTIG41KyIx9B-e4PS1L6EZZk8qp0mkFr9g_Hvg1ZPl2DQoM8WvSPA3DokC4_6n8kMsS8FJQfZqYUxiZ6zumftivj-Xif___vxxCHPaTFXdw3RpsRrMFfQRMsKm, option: all\n",
      "notification to be implemented: Ate greens for 0 times, try to eat more greens\n",
      "saved notification \"Ate greens for 0 times, try to eat more greens\" to database!\n",
      "Now, doing RL for User:cxR0fagCbNtjD1qAwhsTQJ:APA91bFnRpSkcjP97fhDD3eVRjsAkMqI60q5DHwojeX6z0vD2ILxRrV3WjRA86iExkKGPg5S0O4Y8ipM7lmEAOxUFJnpqR0O1_f7xxGgQh7Ke_U8S2yGppsaZvbOAlckJU7qAeCf6szv\n",
      "getting answers of User:cxR0fagCbNtjD1qAwhsTQJ:APA91bFnRpSkcjP97fhDD3eVRjsAkMqI60q5DHwojeX6z0vD2ILxRrV3WjRA86iExkKGPg5S0O4Y8ipM7lmEAOxUFJnpqR0O1_f7xxGgQh7Ke_U8S2yGppsaZvbOAlckJU7qAeCf6szv, option: all\n",
      "notification to be implemented: Ate greens for 0 times, try to eat more greens\n",
      "saved notification \"Ate greens for 0 times, try to eat more greens\" to database!\n",
      "Now, doing RL for User:cxR0fagCbNtjD1qAwhsTQJ:APA91bGk_JmnHt0F7VuQ9dO2VKctVrBSeeI4Zo91DXizknsdWs0hLFojF2Yi1Ap4Boc4KU50fqo9-ir-yjN_IMu8YjL5wxapgaaE4cXgIgiQs46i2J5h31YyE6QlFemo5pqDLgze2tvg\n",
      "getting answers of User:cxR0fagCbNtjD1qAwhsTQJ:APA91bGk_JmnHt0F7VuQ9dO2VKctVrBSeeI4Zo91DXizknsdWs0hLFojF2Yi1Ap4Boc4KU50fqo9-ir-yjN_IMu8YjL5wxapgaaE4cXgIgiQs46i2J5h31YyE6QlFemo5pqDLgze2tvg, option: all\n",
      "notification to be implemented: Ate greens for 0 times, try to eat more greens\n",
      "saved notification \"Ate greens for 0 times, try to eat more greens\" to database!\n",
      "Now, doing RL for User:cxR0fagCbNtjD1qAwhsTQJ:APA91bHXW9hpissFwnoiwKj68_E7gpx2EH7yr7mypLZVEnapeFYO9vcJ7eDjuiFehOuGX2pb5wlJQPZn1O6l90fCr2nQzuzdJM7dxG4-I9a9cgAHlf617_c-WdCFT_BxZKb_XE8Z0Can\n",
      "getting answers of User:cxR0fagCbNtjD1qAwhsTQJ:APA91bHXW9hpissFwnoiwKj68_E7gpx2EH7yr7mypLZVEnapeFYO9vcJ7eDjuiFehOuGX2pb5wlJQPZn1O6l90fCr2nQzuzdJM7dxG4-I9a9cgAHlf617_c-WdCFT_BxZKb_XE8Z0Can, option: all\n",
      "notification to be implemented: Ate greens for 0 times, try to eat more greens\n",
      "saved notification \"Ate greens for 0 times, try to eat more greens\" to database!\n",
      "Now, doing RL for User:cxR0fagCbNtjD1qAwhsTQJ:APA91bHcwIxTPzr6lAM9dck9_ZPr4RnSISEo17hElNT-UDTmtOAMeZaXkS5c2CAvM445L4-ojXj4lkv34MYU7VzI6Mh4EpKnzj62BxGMl0d4_i5KJYFqlfGQGXxOyZnC_Zyk6fK8w2Ti\n",
      "getting answers of User:cxR0fagCbNtjD1qAwhsTQJ:APA91bHcwIxTPzr6lAM9dck9_ZPr4RnSISEo17hElNT-UDTmtOAMeZaXkS5c2CAvM445L4-ojXj4lkv34MYU7VzI6Mh4EpKnzj62BxGMl0d4_i5KJYFqlfGQGXxOyZnC_Zyk6fK8w2Ti, option: all\n",
      "notification to be implemented: Ate greens for 0 times, try to eat more greens\n",
      "saved notification \"Ate greens for 0 times, try to eat more greens\" to database!\n",
      "Now, doing RL for User:czXbS-fdqZUnkwFueIw-Zv:APA91bE40XSvsXpi9d3A6EVEH5rhHa-uYKvrwQBhgxo-f-yyy79QKjWCzfJkx8M0gXJF05sttuRqPNJtMd_hXyUSRbtYebNBB2afx8boLm0B2Lt_Jwbtd2PSUtXhP0caJkpruyYuNZkc\n",
      "getting answers of User:czXbS-fdqZUnkwFueIw-Zv:APA91bE40XSvsXpi9d3A6EVEH5rhHa-uYKvrwQBhgxo-f-yyy79QKjWCzfJkx8M0gXJF05sttuRqPNJtMd_hXyUSRbtYebNBB2afx8boLm0B2Lt_Jwbtd2PSUtXhP0caJkpruyYuNZkc, option: all\n",
      "notification to be implemented: Ate greens for 0 times, try to eat more greens\n",
      "saved notification \"Ate greens for 0 times, try to eat more greens\" to database!\n",
      "Now, doing RL for User:czXbS-fdqZUnkwFueIw-Zv:APA91bEaoQe-PWr4va6-CGx4NNhcelK7QgNUj7vAQvuJSGgbsrEv402hXjGCmFEjMlUSDxvnNEOvzY4TfrXSfyuevw6TUL97FJ0y1zl5_kgO6d-cw2D0T2LozfM8S0w6Mw3lu2MjGyKY\n",
      "getting answers of User:czXbS-fdqZUnkwFueIw-Zv:APA91bEaoQe-PWr4va6-CGx4NNhcelK7QgNUj7vAQvuJSGgbsrEv402hXjGCmFEjMlUSDxvnNEOvzY4TfrXSfyuevw6TUL97FJ0y1zl5_kgO6d-cw2D0T2LozfM8S0w6Mw3lu2MjGyKY, option: all\n",
      "notification to be implemented: Ate greens for 0 times, try to eat more greens\n",
      "saved notification \"Ate greens for 0 times, try to eat more greens\" to database!\n",
      "Now, doing RL for User:czXbS-fdqZUnkwFueIw-Zv:APA91bErS3OavndTY0mf2Mw7fKGdfPrS0mUEyJY1N0Dae2t5bjDbayyklSckyfJNh4hJEEfI4QV0-Oetx2mCalfk8lULij85XeG-qolYdmoArtZEos5w8usYx7EoO6SJ49RXmkOhds-i\n",
      "getting answers of User:czXbS-fdqZUnkwFueIw-Zv:APA91bErS3OavndTY0mf2Mw7fKGdfPrS0mUEyJY1N0Dae2t5bjDbayyklSckyfJNh4hJEEfI4QV0-Oetx2mCalfk8lULij85XeG-qolYdmoArtZEos5w8usYx7EoO6SJ49RXmkOhds-i, option: all\n",
      "['8', 5, 'No']\n",
      "notification to be implemented: Ate greens for 0 times, try to eat more greens\n",
      "saved notification \"Ate greens for 0 times, try to eat more greens\" to database!\n",
      "Now, doing RL for User:czXbS-fdqZUnkwFueIw-Zv:APA91bHcPzFg6tF-yFa2VjKretZcuV8hsXg4wCaI053uz4xIUh1_uWF1FFf7Qn8gO_UZAJCx3R30yHSvvtzYaiFQijbXY0scEj4VjtPx8MDyLpinb3Jk0NrXRER2YESuSaH7CPFZWmGa\n",
      "getting answers of User:czXbS-fdqZUnkwFueIw-Zv:APA91bHcPzFg6tF-yFa2VjKretZcuV8hsXg4wCaI053uz4xIUh1_uWF1FFf7Qn8gO_UZAJCx3R30yHSvvtzYaiFQijbXY0scEj4VjtPx8MDyLpinb3Jk0NrXRER2YESuSaH7CPFZWmGa, option: all\n",
      "notification to be implemented: Ate greens for 0 times, try to eat more greens\n",
      "saved notification \"Ate greens for 0 times, try to eat more greens\" to database!\n",
      "Now, doing RL for User:eEUeEt4Pq1dwZHwRspE9Nf:APA91bE_qf_4cSONgt_HQNj2LsXVpoTYlIHSQAWe9maZDm8XVhWSLekeIt9BOoNc0k4HRNbWM5MIb21DMi4pAJmK6_SGTJVgnZhw19H6SRGORFbm8oooCZZuK74srfTIEc9TRsn_JZ83\n",
      "getting answers of User:eEUeEt4Pq1dwZHwRspE9Nf:APA91bE_qf_4cSONgt_HQNj2LsXVpoTYlIHSQAWe9maZDm8XVhWSLekeIt9BOoNc0k4HRNbWM5MIb21DMi4pAJmK6_SGTJVgnZhw19H6SRGORFbm8oooCZZuK74srfTIEc9TRsn_JZ83, option: all\n",
      "notification to be implemented: Ate greens for 0 times, try to eat more greens\n",
      "saved notification \"Ate greens for 0 times, try to eat more greens\" to database!\n",
      "Now, doing RL for User:eEUeEt4Pq1dwZHwRspE9Nf:APA91bFO3RXE2dgFFiPSj1lk0OVyzBy_F1XzLNUH_jEVNY86fmrN0nQtZCsitp38EBnm7rxVgKfCK9K1gA548dIg7mEV2WKTycvuBUH9bPZrqMOsW2pTYwigoWFE4n9lJ9a8l3r6-1Mo\n",
      "getting answers of User:eEUeEt4Pq1dwZHwRspE9Nf:APA91bFO3RXE2dgFFiPSj1lk0OVyzBy_F1XzLNUH_jEVNY86fmrN0nQtZCsitp38EBnm7rxVgKfCK9K1gA548dIg7mEV2WKTycvuBUH9bPZrqMOsW2pTYwigoWFE4n9lJ9a8l3r6-1Mo, option: all\n",
      "notification to be implemented: Ate greens for 0 times, try to eat more greens\n",
      "saved notification \"Ate greens for 0 times, try to eat more greens\" to database!\n",
      "Now, doing RL for User:eEUeEt4Pq1dwZHwRspE9Nf:APA91bHw92k5wBM_FD8i_BUOTIfgw3fb2fW5yplDgKditcC231LoVjZ3l-DQ2jP8aCUPMNLsho4Mx_OKXLQnS1FhawDvjz38NzsVlUCVV5NUS4WQ_lIfEIW432lB5AMmh_6gmR9K4UdC\n",
      "getting answers of User:eEUeEt4Pq1dwZHwRspE9Nf:APA91bHw92k5wBM_FD8i_BUOTIfgw3fb2fW5yplDgKditcC231LoVjZ3l-DQ2jP8aCUPMNLsho4Mx_OKXLQnS1FhawDvjz38NzsVlUCVV5NUS4WQ_lIfEIW432lB5AMmh_6gmR9K4UdC, option: all\n",
      "notification to be implemented: Ate greens for 0 times, try to eat more greens\n",
      "saved notification \"Ate greens for 0 times, try to eat more greens\" to database!\n",
      "Now, doing RL for User:efB2NH6U0ELUpzST-Ze1py:APA91bFuKQR7ixsL4rOd5asOQ5lff2jjwIy7O3HUnEkppDE643x-6MwMRqxBX4VvIV3d9wULbnyHPK0dqvejKLn7I-9VyEDvCf5HCx0eu7WOBTu1Zv65pJHNqjAXb9R4d_ZKFy0Bbyj6\n",
      "getting answers of User:efB2NH6U0ELUpzST-Ze1py:APA91bFuKQR7ixsL4rOd5asOQ5lff2jjwIy7O3HUnEkppDE643x-6MwMRqxBX4VvIV3d9wULbnyHPK0dqvejKLn7I-9VyEDvCf5HCx0eu7WOBTu1Zv65pJHNqjAXb9R4d_ZKFy0Bbyj6, option: all\n",
      "['10', 3, 'No']\n",
      "notification to be implemented: Ate greens for 0 times, try to eat more greens\n",
      "saved notification \"Ate greens for 0 times, try to eat more greens\" to database!\n",
      "Now, doing RL for User:ekLCEziB7MZUPM1Fiw2rRs:APA91bEYfvm1k3yuwomrNUP2Hc9U4qnL_92wSD46AEt6RJKn8X9jSJMqZmlTcQLSk2E7gAO4MdIJ6C2rFJ3kS4kk78lG55o4Y4oaoWlXXElW6xVrbHutzXOPmr-KwgvFpgfFHfgjDKPx\n",
      "getting answers of User:ekLCEziB7MZUPM1Fiw2rRs:APA91bEYfvm1k3yuwomrNUP2Hc9U4qnL_92wSD46AEt6RJKn8X9jSJMqZmlTcQLSk2E7gAO4MdIJ6C2rFJ3kS4kk78lG55o4Y4oaoWlXXElW6xVrbHutzXOPmr-KwgvFpgfFHfgjDKPx, option: all\n",
      "notification to be implemented: Ate greens for 0 times, try to eat more greens\n",
      "saved notification \"Ate greens for 0 times, try to eat more greens\" to database!\n",
      "Now, doing RL for User:eySTNLBczpnnLikieAM8TS:APA91bEef_NzGO67wPYaHy7xYxQ7EWplE4kKwTj3m3oek0ioyC9Hc8euV1sfOV6byrVunTe8r8JsV9gc_gfg52_zMWVRhyhD73fKa2nTgQOGUe2yKHYC_NL-jOf1PrNHexLx5Xpj-e-n\n",
      "getting answers of User:eySTNLBczpnnLikieAM8TS:APA91bEef_NzGO67wPYaHy7xYxQ7EWplE4kKwTj3m3oek0ioyC9Hc8euV1sfOV6byrVunTe8r8JsV9gc_gfg52_zMWVRhyhD73fKa2nTgQOGUe2yKHYC_NL-jOf1PrNHexLx5Xpj-e-n, option: all\n"
     ]
    },
    {
     "name": "stdout",
     "output_type": "stream",
     "text": [
      "notification to be implemented: Ate greens for 0 times, try to eat more greens\n",
      "saved notification \"Ate greens for 0 times, try to eat more greens\" to database!\n",
      "Now, doing RL for User:f0wcpswZOWwAP5RwtAwFvp:APA91bFgyvLnlHhw05k2IJDuh2ZvBy1Kxin4UL7JVj6lcwnAQZssnAc7gYRWUdz071V4c1xOaITFxAPDkhsO-Ut9GhYgAbTGGvBPOIfLcTAAZoAH4dR5Ykc8RyFHucTxCUIJEin0J3QO\n",
      "getting answers of User:f0wcpswZOWwAP5RwtAwFvp:APA91bFgyvLnlHhw05k2IJDuh2ZvBy1Kxin4UL7JVj6lcwnAQZssnAc7gYRWUdz071V4c1xOaITFxAPDkhsO-Ut9GhYgAbTGGvBPOIfLcTAAZoAH4dR5Ykc8RyFHucTxCUIJEin0J3QO, option: all\n",
      "notification to be implemented: Ate greens for 0 times, try to eat more greens\n",
      "saved notification \"Ate greens for 0 times, try to eat more greens\" to database!\n",
      "Now, doing RL for User:fwLudwJsRkeLArsTG9dEoM:APA91bFdc7qX85fYeUDFiU2_J1r3YLIR3IEKe5-LflTLjL-fyjfsVaTkdvYBCa3X4dXKQEHlVRL701MXYEmxrjqr6R4e61vowMeqIRr5aMUFosfVi0eFfII28uMhAUQ4Y6Nve0EaDbGP\n",
      "getting answers of User:fwLudwJsRkeLArsTG9dEoM:APA91bFdc7qX85fYeUDFiU2_J1r3YLIR3IEKe5-LflTLjL-fyjfsVaTkdvYBCa3X4dXKQEHlVRL701MXYEmxrjqr6R4e61vowMeqIRr5aMUFosfVi0eFfII28uMhAUQ4Y6Nve0EaDbGP, option: all\n",
      "['5', 3.0, 'Yes']\n",
      "['2', 3.0, 'Yes']\n",
      "['2', 3.0, 'Yes']\n",
      "notification to be implemented: Ate greens for 0 times, try to eat more greens\n",
      "saved notification \"Ate greens for 0 times, try to eat more greens\" to database!\n"
     ]
    }
   ],
   "source": [
    "#This is an example running RL algorithm for all users in the database\n",
    "RL_all_useres()"
   ]
  },
  {
   "cell_type": "code",
   "execution_count": null,
   "id": "4e5449cb",
   "metadata": {},
   "outputs": [],
   "source": []
  },
  {
   "cell_type": "code",
   "execution_count": null,
   "id": "6a20f511",
   "metadata": {},
   "outputs": [],
   "source": []
  },
  {
   "cell_type": "code",
   "execution_count": null,
   "id": "5e1f42a2",
   "metadata": {},
   "outputs": [],
   "source": []
  },
  {
   "cell_type": "code",
   "execution_count": null,
   "id": "93756c73",
   "metadata": {},
   "outputs": [],
   "source": []
  }
 ],
 "metadata": {
  "kernelspec": {
   "display_name": "reinlife",
   "language": "python",
   "name": "reinlife"
  },
  "language_info": {
   "codemirror_mode": {
    "name": "ipython",
    "version": 3
   },
   "file_extension": ".py",
   "mimetype": "text/x-python",
   "name": "python",
   "nbconvert_exporter": "python",
   "pygments_lexer": "ipython3",
   "version": "3.9.18"
  },
  "varInspector": {
   "cols": {
    "lenName": 16,
    "lenType": 16,
    "lenVar": 40
   },
   "kernels_config": {
    "python": {
     "delete_cmd_postfix": "",
     "delete_cmd_prefix": "del ",
     "library": "var_list.py",
     "varRefreshCmd": "print(var_dic_list())"
    },
    "r": {
     "delete_cmd_postfix": ") ",
     "delete_cmd_prefix": "rm(",
     "library": "var_list.r",
     "varRefreshCmd": "cat(var_dic_list()) "
    }
   },
   "types_to_exclude": [
    "module",
    "function",
    "builtin_function_or_method",
    "instance",
    "_Feature"
   ],
   "window_display": false
  }
 },
 "nbformat": 4,
 "nbformat_minor": 5
}
